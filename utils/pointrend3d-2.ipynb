{
 "cells": [
  {
   "cell_type": "code",
   "execution_count": 1,
   "metadata": {},
   "outputs": [],
   "source": [
    "import numpy as np\n",
    "from scipy import misc, ndimage\n",
    "from time import time\n",
    "\n",
    "def timer(func):\n",
    "    def f(*args, **kwargs):\n",
    "        before = time()\n",
    "        rv = func(*args, **kwargs)\n",
    "        after = time()\n",
    "        print(\"function\", func.__name__,\"taken\",after - before)\n",
    "        return rv\n",
    "    return f\n",
    "\n",
    "@timer\n",
    "def _gaussian(edge,nn):\n",
    "    return ndimage.gaussian_filter(edge,sigma=nn*2+1)\n",
    "\n",
    "@timer\n",
    "def _getEdge(mask):\n",
    "    return ndimage.sobel(mask,1)+ndimage.sobel(mask,2)+ndimage.sobel(mask,0)\n",
    "\n",
    "@timer\n",
    "def getBoundary(mask, extend_edge = False, nn=1):\n",
    "    edge = _getEdge(mask)\n",
    "    if extend_edge: edge = _gaussian(edge,nn)\n",
    "    binarized = (edge > 0).astype(np.int_)\n",
    "    return binarized"
   ]
  },
  {
   "cell_type": "code",
   "execution_count": 3,
   "metadata": {},
   "outputs": [],
   "source": [
    "def pointRend(image, points_to_rend, point_render):\n",
    "    '''\n",
    "    parameter:\n",
    "        image: a 2-D or 3-D image.\n",
    "        points_to_rend: a 0/1 tensor which has the same shape as the image. 0 means dont rend; 1 means rend.\n",
    "        render: a function which have a input of an image value and predict a label.\n",
    "    Returns:\n",
    "        a tensor which has a same shape of the input image, non-predicted area was labeled 0.\n",
    "    '''\n",
    "    assert image.shape == points_to_rend.shape, \"image and points_to_rend should have the same shape\"\n",
    "\n",
    "    all_image_rend = render(image)\n",
    "    return np.multiply(points_to_rend,all_image_rend)"
   ]
  },
  {
   "cell_type": "code",
   "execution_count": null,
   "metadata": {},
   "outputs": [],
   "source": [
    "def maskMerge(backbone_pred, point_rend_pred, points_to_rend):\n",
    "    '''\n",
    "    parameter:\n",
    "        backbone_pred: a 2-D or 3-D mask \n",
    "        point_rend_pred: a 2-D or 3-D mask\n",
    "        points_to_rend: an indicator shown where we trust point_rend\n",
    "    return\n",
    "        a tensor which is the merged mask\n",
    "    '''\n",
    "    # Now the label are 0,1,2...n for n+1 class, which is not good for our merge\n",
    "    # We will make n+1 01 tensors for the label.\n",
    "    "
   ]
  },
  {
   "cell_type": "code",
   "execution_count": 5,
   "metadata": {},
   "outputs": [
    {
     "name": "stdout",
     "output_type": "stream",
     "text": [
      "function name: _getEdge\n",
      "time taken:  0.4947037696838379\n",
      "function name: getBoundary\n",
      "time taken:  0.5265898704528809\n",
      "sum is  13404\n",
      "max is  1\n"
     ]
    },
    {
     "data": {
      "text/plain": [
       "tuple"
      ]
     },
     "execution_count": 5,
     "metadata": {},
     "output_type": "execute_result"
    },
    {
     "data": {
      "image/png": "[encoded data removed]",
      "text/plain": [
       "<Figure size 1080x1080 with 2 Axes>"
      ]
     },
     "metadata": {
      "needs_background": "light"
     },
     "output_type": "display_data"
    }
   ],
   "source": [
    "# 2D test\n",
    "from PIL import Image\n",
    "mask = np.array(Image.open(\"mask-2d.png\"))\n",
    "import matplotlib.pyplot as plt\n",
    "plt.figure(figsize=(15,15))\n",
    "plt.subplot(221)\n",
    "plt.imshow(mask)\n",
    "plt.subplot(222)\n",
    "res_2d = getBoundary(mask)\n",
    "plt.imshow(res_2d)\n",
    "\n",
    "\n",
    "print(\"sum is \", np.sum(res_2d))\n",
    "print(\"max is \", np.max(res_2d))\n",
    "type(mask.shape)"
   ]
  },
  {
   "cell_type": "code",
   "execution_count": 105,
   "metadata": {},
   "outputs": [
    {
     "name": "stdout",
     "output_type": "stream",
     "text": [
      "function name: _getEdge\n",
      "time taken:  9.507561206817627\n",
      "function name: _gaussian\n",
      "time taken:  5.541218042373657\n",
      "function name: getBoundary\n",
      "time taken:  15.474602937698364\n",
      "function name: _getEdge\n",
      "time taken:  9.432779312133789\n",
      "There are 255 points to be rend\n"
     ]
    }
   ],
   "source": [
    "# 3D test\n",
    "import SimpleITK as sitk\n",
    "mask_3d = sitk.ReadImage(\"segmentation-11.nii\")\n",
    "mask_3d = sitk.GetArrayFromImage(mask_3d)\n",
    "boundary = getBoundary(mask_3d,2)\n",
    "edge = _getEdge(mask_3d)\n",
    "pointRend(edge,1)\n",
    "\n",
    "\n",
    "\n",
    "out_edge = sitk.GetImageFromArray(edge)\n",
    "sitk.WriteImage(out,'edge.nii.gz')\n",
    "out = sitk.GetImageFromArray(boundary)\n",
    "sitk.WriteImage(out,'boundary.nii.gz')"
   ]
  },
  {
   "cell_type": "code",
   "execution_count": 113,
   "metadata": {},
   "outputs": [
    {
     "name": "stdout",
     "output_type": "stream",
     "text": [
      "There are 1 points to be rend\n"
     ]
    }
   ],
   "source": [
    "pointRend(boundary,1)"
   ]
  },
  {
   "cell_type": "code",
   "execution_count": 103,
   "metadata": {},
   "outputs": [
    {
     "name": "stdout",
     "output_type": "stream",
     "text": [
      "104857600\n"
     ]
    }
   ],
   "source": [
    "print(400*512*512)"
   ]
  },
  {
   "cell_type": "code",
   "execution_count": 114,
   "metadata": {},
   "outputs": [
    {
     "data": {
      "text/plain": [
       "2465189"
      ]
     },
     "execution_count": 114,
     "metadata": {},
     "output_type": "execute_result"
    }
   ],
   "source": [
    "np.sum(boundary)"
   ]
  },
  {
   "cell_type": "code",
   "execution_count": 111,
   "metadata": {},
   "outputs": [
    {
     "data": {
      "text/plain": [
       "255"
      ]
     },
     "execution_count": 111,
     "metadata": {},
     "output_type": "execute_result"
    }
   ],
   "source": [
    "np.max(edge)"
   ]
  },
  {
   "cell_type": "code",
   "execution_count": 112,
   "metadata": {},
   "outputs": [
    {
     "data": {
      "text/plain": [
       "0.47030914699570814"
      ]
     },
     "execution_count": 112,
     "metadata": {},
     "output_type": "execute_result"
    }
   ],
   "source": [
    "np.average(edge)"
   ]
  },
  {
   "cell_type": "code",
   "execution_count": null,
   "metadata": {},
   "outputs": [],
   "source": []
  }
 ],
 "metadata": {
  "kernelspec": {
   "display_name": "Python 3",
   "language": "python",
   "name": "python3"
  },
  "language_info": {
   "codemirror_mode": {
    "name": "ipython",
    "version": 3
   },
   "file_extension": ".py",
   "mimetype": "text/x-python",
   "name": "python",
   "nbconvert_exporter": "python",
   "pygments_lexer": "ipython3",
   "version": "3.7.0"
  }
 },
 "nbformat": 4,
 "nbformat_minor": 2
}
